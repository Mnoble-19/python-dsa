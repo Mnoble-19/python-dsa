{
 "cells": [
  {
   "cell_type": "markdown",
   "source": [
    "# Python Primer"
   ],
   "metadata": {
    "collapsed": false
   }
  },
  {
   "cell_type": "markdown",
   "source": [
    "### Python program to compute GPA"
   ],
   "metadata": {
    "collapsed": false
   }
  },
  {
   "cell_type": "code",
   "execution_count": 1,
   "outputs": [
    {
     "name": "stdout",
     "output_type": "stream",
     "text": [
      "Calculator:\n",
      "Your GPA is  4.0\n",
      "Your GPA is  3.5\n",
      "Your GPA is  2.89\n",
      "Your GPA is  2.42\n",
      "Unknown grade 0 being ingored\n",
      "Your GPA is  2.42\n",
      "Your GPA is  2.42\n"
     ]
    }
   ],
   "source": [
    "print('Calculator:')\n",
    "points = {'A+': 4.0, 'A': 4.0, 'A-': 3.67, 'B+': 3.33, 'B': 3.0, 'B-': 2.67, 'C+': 2.33, 'C': 2.0, 'C': 2.0, 'C': 1.67,\n",
    "          'D+': 1.33, 'D': 1.0, 'F': 0.0}\n",
    "num_courses = 0\n",
    "total_points = 0\n",
    "done = False\n",
    "while not done:\n",
    "    grade = input()\n",
    "    if grade == '':\n",
    "        done = True\n",
    "    elif grade not in points:\n",
    "        print(f'Unknown grade {grade} being ingored')\n",
    "    else:\n",
    "        num_courses += 1\n",
    "        total_points += points[grade]\n",
    "    if num_courses > 0:\n",
    "        print(f'Your GPA is  {total_points/num_courses:.3}')"
   ],
   "metadata": {
    "collapsed": false
   }
  },
  {
   "cell_type": "markdown",
   "source": [
    "Sequences are:\n",
    "* list - stores references - uses [ ]\n",
    "* tuple - always add comma at the end of the stmt - uses ()\n",
    "* str - normal string\n",
    "* set - only holds immutable types, uses { }\n",
    "* dictionary - key, value"
   ],
   "metadata": {
    "collapsed": false
   }
  },
  {
   "cell_type": "markdown",
   "source": [
    "### Expressions, Operators, and Precedence"
   ],
   "metadata": {
    "collapsed": false
   }
  },
  {
   "cell_type": "markdown",
   "source": [
    "- and, or are short-circut\n",
    "- is, is not\n",
    "- ==, !==\n",
    "- // integer division\n",
    "\n",
    "- Dictionaries:\n",
    "- d[key]\n",
    "- d[key] = value\n",
    "- del d[key]\n",
    "- key in d\n",
    "- key not in d\n",
    "- d1 == d2\n",
    "- d1 != d2"
   ],
   "metadata": {
    "collapsed": false
   }
  },
  {
   "cell_type": "markdown",
   "source": [
    "### File access and manipulation"
   ],
   "metadata": {
    "collapsed": false
   }
  },
  {
   "cell_type": "code",
   "execution_count": 6,
   "outputs": [
    {
     "data": {
      "text/plain": "'Noble\\n'"
     },
     "execution_count": 6,
     "metadata": {},
     "output_type": "execute_result"
    }
   ],
   "source": [
    "file = open('noble.txt', 'r')\n",
    "\n",
    "file.readline()"
   ],
   "metadata": {
    "collapsed": false
   }
  },
  {
   "cell_type": "markdown",
   "source": [
    "Python uses try-catch for exception handling"
   ],
   "metadata": {
    "collapsed": false
   }
  },
  {
   "cell_type": "code",
   "execution_count": 7,
   "outputs": [
    {
     "name": "stdout",
     "output_type": "stream",
     "text": [
      "Can't find file [Errno 2] No such file or directory: 'nobj.txt'\n"
     ]
    }
   ],
   "source": [
    "try:\n",
    "    fp = open('nobj.txt')\n",
    "except IOError as e:\n",
    "    print('Can\\'t find file', e)"
   ],
   "metadata": {
    "collapsed": false
   }
  },
  {
   "cell_type": "markdown",
   "source": [
    "### Iterators and generators\n",
    "* A generator is implemented with a syntax that is very similar to a function, but instead of returning values, a `yield` statement is executed to indicate each element of the series."
   ],
   "metadata": {
    "collapsed": false
   }
  },
  {
   "cell_type": "code",
   "execution_count": 10,
   "outputs": [
    {
     "name": "stdout",
     "output_type": "stream",
     "text": [
      "<generator object factors at 0x7f7b77c43530>\n"
     ]
    }
   ],
   "source": [
    "def factors(n):\n",
    "    for k in range(1,n+1):\n",
    "        if n % k == 0:\n",
    "            yield k\n",
    "\n",
    "x = factors(5)\n",
    "print(x)"
   ],
   "metadata": {
    "collapsed": false
   }
  },
  {
   "cell_type": "markdown",
   "source": [
    "Other python benefits\n",
    "* conditional expressions\n",
    "* `if n >= 0:\n",
    "    param = n\n",
    "else:\n",
    "    param = -n\n",
    "result = foo same as\n",
    "result = foo(n if n >= 0 else -n)`\n",
    "* Comprehension syntax\n",
    "* `squares = [k*k for k in range(1, n+1)]`"
   ],
   "metadata": {
    "collapsed": false
   }
  },
  {
   "cell_type": "code",
   "execution_count": null,
   "outputs": [],
   "source": [],
   "metadata": {
    "collapsed": false
   }
  }
 ],
 "metadata": {
  "kernelspec": {
   "display_name": "Python 3",
   "language": "python",
   "name": "python3"
  },
  "language_info": {
   "codemirror_mode": {
    "name": "ipython",
    "version": 2
   },
   "file_extension": ".py",
   "mimetype": "text/x-python",
   "name": "python",
   "nbconvert_exporter": "python",
   "pygments_lexer": "ipython2",
   "version": "2.7.6"
  }
 },
 "nbformat": 4,
 "nbformat_minor": 0
}
